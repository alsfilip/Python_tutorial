{
 "cells": [
  {
   "cell_type": "markdown",
   "metadata": {},
   "source": [
    "# Lesson 1: Variables, statements, and data types\n",
    "\n",
    "## 04/09/2020\n",
    "\n",
    "*The content of this session is largely based on [Chapter 2](http://openbookproject.net/thinkcs/python/english3e/way_of_the_program.html) from the [\"How to think like a computer scientist\"](http://openbookproject.net/thinkcs/python/english3e/) e-book*\n",
    "\n",
    "**Goals of this notebook**\n",
    "- Introduce the concept of variables\n",
    "- Introduce statements\n",
    "- Introduces integer, float, and string data types\n",
    "- Introduce the `int()`, `float()`, and `str()` functions\n",
    "- Introduce different operators\n",
    "\n",
    "### 1.0) Variables\n",
    "\n",
    "Variables are an important part of any programming language. Variables serve as a placeholder for different data types (e.g., numbers, characters/strings, lists, etc). Variables can take on any value and can be used flexibly throughout your code.\n",
    "\n",
    "In python, you assign a value to a variable using the `=` symbol. So for example, if I want to create a variable named `my_variable` and I want it to have a value of `5`, I would write:\n",
    "\n",
    "> `my_variable = 5`\n",
    "\n",
    "At this point `my_variable` behaves exactly like `5`. For example, I can add it to another number:\n"
   ]
  },
  {
   "cell_type": "code",
   "execution_count": 14,
   "metadata": {},
   "outputs": [
    {
     "data": {
      "text/plain": [
       "7"
      ]
     },
     "execution_count": 14,
     "metadata": {},
     "output_type": "execute_result"
    }
   ],
   "source": [
    "# Make a variable called my_variable that takes on the value 5\n",
    "my_variable = 5\n",
    "\n",
    "# Add 2 to my_variable\n",
    "my_variable + 2"
   ]
  },
  {
   "cell_type": "markdown",
   "metadata": {},
   "source": [
    "If at some point I want to change my variable, I can just assign it a different value:"
   ]
  },
  {
   "cell_type": "code",
   "execution_count": 15,
   "metadata": {},
   "outputs": [
    {
     "name": "stdout",
     "output_type": "stream",
     "text": [
      "5\n"
     ]
    }
   ],
   "source": [
    "# Right now the variable is still equal to 5\n",
    "print(my_variable)"
   ]
  },
  {
   "cell_type": "code",
   "execution_count": 16,
   "metadata": {},
   "outputs": [
    {
     "name": "stdout",
     "output_type": "stream",
     "text": [
      "10\n"
     ]
    }
   ],
   "source": [
    "# Change value of the variable - it's own value plus 5\n",
    "my_variable = my_variable + 5\n",
    "print(my_variable)"
   ]
  },
  {
   "cell_type": "markdown",
   "metadata": {},
   "source": [
    "Most programming languages have rules guiding variable names, and these can differ pretty substantially between languages. In python, the following rules apply when naming your variables:\n",
    "\n",
    "1. Variables can only start with a letter or an underscore (not a number or other special character)\n",
    "2. Variables can only contain letters and underscores, and numbers if not at the beginning of the variable name\n",
    "\n",
    "So for example, correct variable names could include:\n",
    "\n",
    "`my_variable`, `_my_variable`, `my_variable2`, `myvariable` \n",
    "\n",
    "Examples of variable names that are not allowed include:\n",
    "\n",
    "`*my_variable`, `2my_variable`, `my variable`, `my.variable`\n",
    "\n",
    "For the last example, although using a `.` is allowed for variable names in some languages (e.g., R), in python it's reserved for methods from classes (something we'll get to later).\n",
    "\n",
    "In addition to limits on variable names, there are certain [\"reserved\" names](https://www.tutorialspoint.com/What-are-Reserved-Keywords-in-Python) that you will not be able to use as variable names:\n",
    "\n",
    "`and`\t`as`\t`assert`\t`break`\t`class`\t`continue`\n",
    "`def`\t`del`\t`elif`\t`else`\t`except`\t`exec`\n",
    "`finally`\t`for`\t`from`\t`global`\t`if`\t`import`\n",
    "`in`\t`is`\t`lambda`\t`nonlocal`\t`not`\t`or`\n",
    "`pass`\t`raise`\t`return`\t`try`\t`while`\t`with`\n",
    "`yield`\t`True`\t`False`\t`None`\n",
    "\n",
    "### 1.1) Statements\n",
    "\n",
    "Among these reserved keywords are **statements**. **Statements** correspond to specific instructions that the python interpreter is built to recognize. Statements include `for` and `while`, which are used for loops (which we will see later), and `import`, which allows you to load different python libraries that you have installed.\n",
    "\n",
    "In jupyter notebooks, by defaults statments appear bolded in green (see below)."
   ]
  },
  {
   "cell_type": "code",
   "execution_count": null,
   "metadata": {},
   "outputs": [],
   "source": [
    "for\n",
    "while\n",
    "import"
   ]
  },
  {
   "cell_type": "markdown",
   "metadata": {},
   "source": [
    "### 1.2) Data types\n",
    "\n",
    "In python there are a few data types. In this lesson we will learn three types:\n",
    "- Integers\n",
    "- Floats\n",
    "- Strings\n",
    "\n",
    "\n",
    "### 1.2) Operators\n",
    "\n",
    "Other symbols that can be used in python are **operators**. These are symbols that sre used to perform computations, such as addition, subtraction and multiplication. There are a number of operators in python:\n",
    "\n",
    "- `+`: addition\n",
    "- `-`: subtraction"
   ]
  }
 ],
 "metadata": {
  "kernelspec": {
   "display_name": "Python 3",
   "language": "python",
   "name": "python3"
  },
  "language_info": {
   "codemirror_mode": {
    "name": "ipython",
    "version": 3
   },
   "file_extension": ".py",
   "mimetype": "text/x-python",
   "name": "python",
   "nbconvert_exporter": "python",
   "pygments_lexer": "ipython3",
   "version": "3.6.8"
  }
 },
 "nbformat": 4,
 "nbformat_minor": 4
}
