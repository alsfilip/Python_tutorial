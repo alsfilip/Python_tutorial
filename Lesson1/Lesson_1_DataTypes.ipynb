{
 "cells": [
  {
   "cell_type": "markdown",
   "metadata": {},
   "source": [
    "# Lesson 1: Variables, statements, and data types\n",
    "\n",
    "## 04/09/2020\n",
    "\n",
    "*The content of this session is largely based on [Chapter 2](http://openbookproject.net/thinkcs/python/english3e/way_of_the_program.html) from the [\"How to think like a computer scientist\"](http://openbookproject.net/thinkcs/python/english3e/) e-book*\n",
    "\n",
    "**Goals of this notebook**\n",
    "- Introduce the concept of variables\n",
    "- Introduce statements\n",
    "- Introduces integer, float, and string data types\n",
    "- Introduce the `int()`, `float()`, and `str()` functions\n",
    "\n",
    "### 1.0) Variables\n",
    "\n",
    "Variables are an important part of any programming language. Variables serve as a placeholder for different data types (e.g., numbers, characters/strings, lists, etc). Variables can take on any value and can be used flexibly throughout your code.\n",
    "\n",
    "In python, you assign a value to a variable using the `=` symbol. So for example, if I want to create a variable named `my_variable` and I want it to have a value of `5`, I would write:\n",
    "\n",
    "> `my_variable = 5`\n",
    "\n",
    "At this point `my_variable` behaves exactly like `5`. For example, I can add it to another number:\n"
   ]
  },
  {
   "cell_type": "code",
   "execution_count": 14,
   "metadata": {},
   "outputs": [
    {
     "data": {
      "text/plain": [
       "7"
      ]
     },
     "execution_count": 14,
     "metadata": {},
     "output_type": "execute_result"
    }
   ],
   "source": [
    "# Make a variable called my_variable that takes on the value 5\n",
    "my_variable = 5\n",
    "\n",
    "# Add 2 to my_variable\n",
    "my_variable + 2"
   ]
  },
  {
   "cell_type": "markdown",
   "metadata": {},
   "source": [
    "If at some point I want to change my variable, I can just assign it a different value:"
   ]
  },
  {
   "cell_type": "code",
   "execution_count": 15,
   "metadata": {},
   "outputs": [
    {
     "name": "stdout",
     "output_type": "stream",
     "text": [
      "5\n"
     ]
    }
   ],
   "source": [
    "# Right now the variable is still equal to 5\n",
    "print(my_variable)"
   ]
  },
  {
   "cell_type": "code",
   "execution_count": 16,
   "metadata": {},
   "outputs": [
    {
     "name": "stdout",
     "output_type": "stream",
     "text": [
      "10\n"
     ]
    }
   ],
   "source": [
    "# Change value of the variable - it's own value plus 5\n",
    "my_variable = my_variable + 5\n",
    "print(my_variable)"
   ]
  },
  {
   "cell_type": "markdown",
   "metadata": {},
   "source": [
    "Most programming languages have rules guiding variable names, and these can differ pretty substantially between languages. In python, the following rules apply when naming your variables:\n",
    "\n",
    "1. Variables can only start with a letter or an underscore (not a number or other special character)\n",
    "2. Variables can only contain letters and underscores, and numbers if not at the beginning of the variable name\n",
    "\n",
    "So for example, correct variable names could include:\n",
    "\n",
    "`my_variable`, `_my_variable`, `my_variable2`, `myvariable` \n",
    "\n",
    "Examples of variable names that are not allowed include:\n",
    "\n",
    "`*my_variable`, `2my_variable`, `my variable`, `my.variable`\n",
    "\n",
    "For the last example, although using a `.` is allowed for variable names in some languages (e.g., R), in python it's reserved for methods from classes (something we'll get to later).\n",
    "\n",
    "In addition to limits on variable names, there are certain [\"reserved\" names](https://www.tutorialspoint.com/What-are-Reserved-Keywords-in-Python) that you will not be able to use as variable names:\n",
    "\n",
    "`and`\t`as`\t`assert`\t`break`\t`class`\t`continue`\n",
    "`def`\t`del`\t`elif`\t`else`\t`except`\t`exec`\n",
    "`finally`\t`for`\t`from`\t`global`\t`if`\t`import`\n",
    "`in`\t`is`\t`lambda`\t`nonlocal`\t`not`\t`or`\n",
    "`pass`\t`raise`\t`return`\t`try`\t`while`\t`with`\n",
    "`yield`\t`True`\t`False`\t`None`\n",
    "\n",
    "### 1.1) Statements\n",
    "\n",
    "Among these reserved keywords are **statements**. **Statements** correspond to specific instructions that the python interpreter is built to recognize. Statements include `for` and `while`, which are used for loops (which we will see later), and `import`, which allows you to load different python libraries that you have installed.\n",
    "\n",
    "In jupyter notebooks, by defaults statments appear bolded in green (see below)."
   ]
  },
  {
   "cell_type": "code",
   "execution_count": null,
   "metadata": {},
   "outputs": [],
   "source": [
    "for\n",
    "while\n",
    "import"
   ]
  },
  {
   "cell_type": "markdown",
   "metadata": {},
   "source": [
    "### 1.2) Data types\n",
    "\n",
    "In python there are a few data types. In this lesson we will learn three types:\n",
    "\n",
    "**Integers:** Whole numbers (i.e., no decimal places). These appear like a number with no decimal place at the end -e.g., `5` but not `5.` or `5.0`. Integers are necessary for things like indexing, which we will get to later.\n",
    "\n",
    "**Floats:** Floats are numbers with decimal points - e.g., `5.0` but not `5`. Floats are what we'll mainly use for numerical computation.\n",
    "\n",
    "**Strings:** Characters that are not treated like numbers. These will appear in single or double quotes - e.g., `\"five\"` or `'five'` are both strings. Note that numbers can also be included in strings - for example, `'5'` is not an interger or a float since it's in single quotes. This means it has the properties of a string, and not a number. More on this later. If you want your string to include a single quote, wrap them in double quotes - e.g., `\"'five'\"`. You can also use triple quotes `'''five'''`, which become handy for writing larger blocks of text, and which can surround double quotes.\n",
    "\n",
    "### 1.3) Converting between data types\n",
    "\n",
    "In python, there are built in **functions** that we can use to convert between different data types. We will learn more about functions later, but for now imagine a function as something that takes some input returns some output. In python functions end with parentheses.\n",
    "\n",
    "One useful function is `type()`, which takes a variable and returns it's type (python calls these \"classes\", which we will corver later).\n",
    "\n",
    "For example, typing `type(5)` will return `<class 'int'>`, indicating that `5` is an integer. Likewise, `type(5.0)` returns `<class 'float>` and `type('5')` returns `<class 'str'>` for \"string\".\n",
    "\n",
    "There are also functions that allow the user to easily convert between data types: `int()` converts its input into an integer, `float()` converts input to a float, and `str()` converts input into a string. So for example, if I create a variable `my_variable` and assign it the integer `5`, I can use the built in functions to check it's type, and convert it to whichever data type I need:"
   ]
  },
  {
   "cell_type": "code",
   "execution_count": 23,
   "metadata": {},
   "outputs": [
    {
     "name": "stdout",
     "output_type": "stream",
     "text": [
      "<class 'int'>\n"
     ]
    }
   ],
   "source": [
    "# Create my_variable as an integer equal to the integer 5\n",
    "my_variable = 5\n",
    "print(type(my_variable))"
   ]
  },
  {
   "cell_type": "code",
   "execution_count": 24,
   "metadata": {},
   "outputs": [
    {
     "name": "stdout",
     "output_type": "stream",
     "text": [
      "<class 'float'>\n"
     ]
    }
   ],
   "source": [
    "# Convert my_variable to a float\n",
    "my_variable = float(my_variable)\n",
    "print(type(my_variable))"
   ]
  },
  {
   "cell_type": "code",
   "execution_count": 30,
   "metadata": {},
   "outputs": [
    {
     "name": "stdout",
     "output_type": "stream",
     "text": [
      "5.0\n",
      "<class 'str'>\n"
     ]
    }
   ],
   "source": [
    "# Convert my variable to a string\n",
    "my_variable = str(my_variable)\n",
    "print(my_variable)\n",
    "print(type(my_variable))"
   ]
  },
  {
   "cell_type": "markdown",
   "metadata": {},
   "source": [
    "Note that strings have different properties than numbers - as such, even though `my_variable` is equal to `'5'`, it is recognized as a character and not as a number. Therefore, I can't apply normal math operations between a string number and an integer or float number:"
   ]
  },
  {
   "cell_type": "code",
   "execution_count": 29,
   "metadata": {},
   "outputs": [
    {
     "name": "stdout",
     "output_type": "stream",
     "text": [
      "5.0\n"
     ]
    },
    {
     "ename": "TypeError",
     "evalue": "must be str, not int",
     "output_type": "error",
     "traceback": [
      "\u001b[0;31m---------------------------------------------------------------------------\u001b[0m",
      "\u001b[0;31mTypeError\u001b[0m                                 Traceback (most recent call last)",
      "\u001b[0;32m<ipython-input-29-078745324294>\u001b[0m in \u001b[0;36m<module>\u001b[0;34m\u001b[0m\n\u001b[1;32m      1\u001b[0m \u001b[0mprint\u001b[0m\u001b[0;34m(\u001b[0m\u001b[0mmy_variable\u001b[0m\u001b[0;34m)\u001b[0m\u001b[0;34m\u001b[0m\u001b[0;34m\u001b[0m\u001b[0m\n\u001b[0;32m----> 2\u001b[0;31m \u001b[0mmy_variable\u001b[0m \u001b[0;34m+\u001b[0m \u001b[0;36m2\u001b[0m\u001b[0;34m\u001b[0m\u001b[0;34m\u001b[0m\u001b[0m\n\u001b[0m",
      "\u001b[0;31mTypeError\u001b[0m: must be str, not int"
     ]
    }
   ],
   "source": [
    "print(my_variable)\n",
    "my_variable + 2\n",
    "\n",
    "# The error below indicates that I can't add a number to a string"
   ]
  },
  {
   "cell_type": "markdown",
   "metadata": {},
   "source": [
    "However, if I convert it back to a number, I can use it as such"
   ]
  },
  {
   "cell_type": "code",
   "execution_count": 31,
   "metadata": {},
   "outputs": [
    {
     "name": "stdout",
     "output_type": "stream",
     "text": [
      "7.0\n"
     ]
    }
   ],
   "source": [
    "print(float(my_variable)+2)"
   ]
  },
  {
   "cell_type": "markdown",
   "metadata": {},
   "source": [
    "Note that conversions only work where possible - for example, the string `'one'` cannot be converted to a number because it is not a number character (it's a word). Likewise, although the float `5.0` can be converted to an integer, the string `'5.0'` cannot, because the character itself is not an integer (although it can be converted to a float, as demonstrated above).\n",
    "\n",
    "There are other data types that we will cover later, but for now it;s just important to note that different data types exist, and that some of the errors you may encounter may be due to you attempting to perform an operation on a variable that is not the correct data type. Knowing how to convert data types"
   ]
  },
  {
   "cell_type": "markdown",
   "metadata": {},
   "source": []
  }
 ],
 "metadata": {
  "kernelspec": {
   "display_name": "Python 3",
   "language": "python",
   "name": "python3"
  },
  "language_info": {
   "codemirror_mode": {
    "name": "ipython",
    "version": 3
   },
   "file_extension": ".py",
   "mimetype": "text/x-python",
   "name": "python",
   "nbconvert_exporter": "python",
   "pygments_lexer": "ipython3",
   "version": "3.6.8"
  }
 },
 "nbformat": 4,
 "nbformat_minor": 4
}
