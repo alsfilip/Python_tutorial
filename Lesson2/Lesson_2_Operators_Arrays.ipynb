{
 "cells": [
  {
   "cell_type": "markdown",
   "metadata": {},
   "source": [
    "# Lesson 2: Operators and Arrays\n",
    "\n",
    "## 04/23/2020\n",
    "\n",
    "*This lesson is largely based on descriptions of operators found [here](https://www.programiz.com/python-programming/operators), and the [tuples](http://openbookproject.net/thinkcs/python/english3e/tuples.html), [lists](http://openbookproject.net/thinkcs/python/english3e/lists.html), and [dictionaries](http://openbookproject.net/thinkcs/python/english3e/dictionaries.html) chapters of the [How to think like a computer scientist](http://openbookproject.net/thinkcs/python/english3e/) ebook.*\n",
    "\n",
    "**Goals of this notebook**\n",
    "\n",
    "- Introduce four different types of operators\n",
    "    - Arithmetic operators\n",
    "    - Comparison operators\n",
    "    - Logical operators\n",
    "    - Assignment operators\n",
    "- Introduces three different types of python arrays:\n",
    "    - Tuples\n",
    "    - Lists\n",
    "    - Dictionaries\n",
    "- Brief introduction to `numpy`\n",
    "\n",
    "\n",
    "## 2.0) Operators\n",
    "\n",
    "Operators are symbols you can use to perform computations. Operators act on an **operand**, which is a a variable or value that can be used with the operator. In this lesson we will cover three types of operators: \n",
    "1) Arithmetic operators\n",
    "2) Comparison operators\n",
    "3) Logical operators\n",
    "4) Assignment operators\n",
    "\n",
    "Note that there also exists a class of operators called **binary operators** but these won't be covered here.\n",
    "\n",
    "### 2.0.1) Arithmetic operators\n",
    "\n",
    "Arithmetic operators are operators used for math (e.g., addition, subtractions, multiplication, etc). Some of these operators will be familiar - for example, `+` and `-` are easily recognizable as \"addition\" and \"subtraction\" respectively. Others may either not be as familiar and/or differ from other languages (e.g., exponents in python are indicated using `**` whereas languages like R use the `^` operator). Here is a list of arithmetic operators in python:\n",
    "\n",
    "| Operator | Meaning | Example |\n",
    "| --- | :--- | --- |\n",
    "| `+` | Adding two numbers | `x + y + 2` |\n",
    "| `-` | Subtraction | `x - y - 2`|\n",
    "| `*` | Multiplication | `x * y * 2` |\n",
    "| `**` | Exponent | `x**y`|\n",
    "| `/` | Division (always results in a float) | `x/y` |\n",
    "| `//` | Floor division - division that results in nearest whole number left of the number line | `x//y` |\n",
    "| `%` | Modulus - returns the remainder of the left operand by the right | `x % y` |\n",
    "\n",
    "So for example, if we have a variable `x = 7` and `y = 2`, the code below will print the result of each operator applied between `x` and `y`:"
   ]
  },
  {
   "cell_type": "code",
   "execution_count": 18,
   "metadata": {},
   "outputs": [
    {
     "name": "stdout",
     "output_type": "stream",
     "text": [
      "Addition: x + y = 9\n",
      "Subtraction: x - y = 5\n",
      "Multiplication: x * y = 14\n",
      "Exponent: x ** y = 49\n",
      "Division: x / y = 3.5\n",
      "Floor division: x // y = 3\n",
      "Modulus: x % y = 1\n"
     ]
    }
   ],
   "source": [
    "x = 7\n",
    "y = 2\n",
    "\n",
    "print(\"Addition: x + y = \"+str(x + y))\n",
    "print(\"Subtraction: x - y = \"+str(x - y))\n",
    "print(\"Multiplication: x * y = \"+str(x * y))\n",
    "print(\"Exponent: x ** y = \"+str(x**y))\n",
    "print(\"Division: x / y = \"+str(x/y))\n",
    "print(\"Floor division: x // y = \"+str(x//y))\n",
    "print(\"Modulus: x % y = \"+str(x%y))"
   ]
  },
  {
   "cell_type": "markdown",
   "metadata": {},
   "source": [
    "Note that the order of operators here matters in the same general hierachy as in mathematics (remember **PEDMAS**):\n",
    "- **P**arentheses are evaluated first\n",
    "- **E**xponentiation\n",
    "- **D**ivision and **M**ultiplication (same priority in the hierachy)\n",
    "- **A**ddition and **S**ubtraction (same priority)\n",
    "\n",
    "So in the expression: `x*5 + 5*y`, the multiplications will be performed first, then the addition."
   ]
  },
  {
   "cell_type": "code",
   "execution_count": 19,
   "metadata": {},
   "outputs": [
    {
     "data": {
      "text/plain": [
       "45"
      ]
     },
     "execution_count": 19,
     "metadata": {},
     "output_type": "execute_result"
    }
   ],
   "source": [
    "# this will return \n",
    "# x*5 + 5*y = 35 + 10 = 45\n",
    "# not\n",
    "# x*5 + 5*y = 35 + 5 * 2 = 40 * 2 = 80\n",
    "x*5 + 5*y"
   ]
  },
  {
   "cell_type": "markdown",
   "metadata": {},
   "source": [
    "If you want to adjust the order of operation you can use parentheses (the \"P\" in PEDMAS)."
   ]
  },
  {
   "cell_type": "code",
   "execution_count": 20,
   "metadata": {},
   "outputs": [
    {
     "data": {
      "text/plain": [
       "80"
      ]
     },
     "execution_count": 20,
     "metadata": {},
     "output_type": "execute_result"
    }
   ],
   "source": [
    "(x*5+5)*y"
   ]
  },
  {
   "cell_type": "markdown",
   "metadata": {},
   "source": [
    "When two operators with the same priority occur appear twice or more, the operators will be evaluated from left to right. So in the example above, `x*5` gets evaluated first, then `5*y`. The only exception to this rule is with exponents - they are read from right to left (so `2**2**3` returns `256` since `2**3` is evaluated first)."
   ]
  },
  {
   "cell_type": "code",
   "execution_count": 21,
   "metadata": {},
   "outputs": [
    {
     "data": {
      "text/plain": [
       "256"
      ]
     },
     "execution_count": 21,
     "metadata": {},
     "output_type": "execute_result"
    }
   ],
   "source": [
    "2**2**3"
   ]
  },
  {
   "cell_type": "markdown",
   "metadata": {},
   "source": [
    "### 2.0.2) Comparison operators\n",
    "\n",
    "Comparison operators compare two variables (e.g., whether a variable is larger/smaller/equal another variable). Unlike arithmetic operators, comparison operators return **boolean** data types (e.g., `True` or `False`; if you run the `type()` function on these you will get `<class 'bool'>`).\n",
    "\n",
    "A couple of notes:\n",
    "\n",
    "- In python, a single `=` operator is an assignment operator (see next section) and is not the same as our general use of the term \"equals\" (as in, this is the same as that). In a lot of programming languages this colloquial \"equivalence\" term is often captured by two equals signs together (`==`). Note that mixing up single and double equals signs is the source of a lot of errors/bugs.\n",
    "- The order of the `<`/`>` and `=` in the \"great/less than\" operators matters - the `>`/`<` always come before the `=`\n",
    "- Boolean data types are speacial in that `True` is equivalent to the integer or float `1` and `False` is equivalent to the intger/float `0`. This means that, for example, `True + True` will return `2`.\n",
    "\n",
    "| Operator | Meaning | Example |\n",
    "| --- | :--- | --- |\n",
    "| `>` | Greater than | `x > y` |\n",
    "| `<` | Smaller than | `x < y`|\n",
    "| `==` | Equal to | `x == y` |\n",
    "| `!=` | Not equal to | `x != y`|\n",
    "| `>=` | Greater than or equal to | `x >= y` |\n",
    "| `<=` | Less than or equal to | `x <= y` |"
   ]
  },
  {
   "cell_type": "code",
   "execution_count": 22,
   "metadata": {},
   "outputs": [
    {
     "name": "stdout",
     "output_type": "stream",
     "text": [
      "x > y is True\n",
      "x < y is False\n",
      "x == y is False\n",
      "x != y is True\n",
      "x >= y is True\n",
      "x <= y is False\n",
      "True\n",
      "True\n",
      "2\n"
     ]
    }
   ],
   "source": [
    "x = 5\n",
    "y = 2\n",
    "\n",
    "print('x > y is '+str(x>y))\n",
    "print('x < y is '+str(x<y))\n",
    "print('x == y is '+str(x==y))\n",
    "print('x != y is '+str(x!=y))\n",
    "print('x >= y is '+str(x>=y))\n",
    "print('x <= y is '+str(x<=y))\n",
    "\n",
    "print(True == 1)\n",
    "print(False == 0)\n",
    "print(True + True)"
   ]
  },
  {
   "cell_type": "markdown",
   "metadata": {},
   "source": [
    "### 2.0.3) Logical operators\n",
    "\n",
    "Logical operators perform formal logical evaluations between conditions of variables. In python, logical operators are protect words (meaning they cannot be used as variable names). Logical operators can only be performed between boolean data types (i.e., variables that are either `True` or `False`). \n",
    "\n",
    "| Operator | Meaning | Example |\n",
    "| --- | :--- | --- |\n",
    "| `and` | True if both operands are true | `x and y` |\n",
    "| `or` | True if one operand is true | `x or y`|\n",
    "| `not` | True if operand is false | `not x` |"
   ]
  },
  {
   "cell_type": "code",
   "execution_count": 27,
   "metadata": {},
   "outputs": [
    {
     "name": "stdout",
     "output_type": "stream",
     "text": [
      "x and y is False\n",
      "x or y is False\n",
      "not x is False\n"
     ]
    }
   ],
   "source": [
    "x = True\n",
    "y = False\n",
    "\n",
    "print(\"x and y is \"+str(x and y))\n",
    "print(\"x or y is \"+str(x and y))\n",
    "print(\"not x is \"+str(not x))"
   ]
  },
  {
   "cell_type": "markdown",
   "metadata": {},
   "source": [
    "### 2.0.4) Assignment operators\n",
    "\n",
    "Assignment operators give you different ways of assigning or modifying the value of a variable. The `=` operator assigns the value to the right to the variable name to the left. Remember, `=` is not the same as `==` - it assigns a value but does not test for equivalence.\n",
    "\n",
    "Some assignment operators modify the value of an existing variable. For example, if I assign the integer `5` to the variable name `x`, and want to add another `5` to `x`, I could run `x = 5`, then `x += 5` (see code block below). This is a more efficient way of doing `x = x + 5`. Likewise, if I wanted to remove `2` from `x`, I would write `x -=2`.\n",
    "\n",
    "| Operator | Meaning | Example | Equivalent to |\n",
    "| --- | :--- | --- | --- |\n",
    "| `=` | Assign the value on the right to the variable on the left | `x = 5` | `x = 5` |\n",
    "| `+=` | Modify variable on the left to be itslef plus the value on the right | `x += 5` | `x = x + 5` |\n",
    "| `-=` | Modify variable on the left to be itslef minus the value on the right | `x -= 5` | `x = x - 5` |\n",
    "| `*=` | Modify variable on the left to be itslef multiplied by the value on the right | `x *= 5` | `x = x * 5` |\n",
    "| `**=` | Modify variable on the left to be itslef to the power of the value on the right | `x **= 5` | `x = x ** 5` |\n",
    "| `/=` | Modify variable on the left to be itslef divided by the value on the right | `x /= 5`| `x = x / 5` |\n",
    "| `//=` | Modify variable on the left to be itslef floor divided by the value on the right | `x //= 5` | `x = x // 5` |\n",
    "| `%=` | Modify variable on the left to be itslef modulo the value on the right | `x %= 5`| `x = x % 5` |"
   ]
  },
  {
   "cell_type": "code",
   "execution_count": 30,
   "metadata": {},
   "outputs": [
    {
     "name": "stdout",
     "output_type": "stream",
     "text": [
      "5\n",
      "10\n",
      "8\n"
     ]
    }
   ],
   "source": [
    "# Assign 5 to the variable name x\n",
    "x = 5\n",
    "print(x)\n",
    "\n",
    "# Add 5 to x\n",
    "x += 5\n",
    "print(x)\n",
    "\n",
    "# Remove 2 from x\n",
    "x -= 2\n",
    "print(x)"
   ]
  },
  {
   "cell_type": "markdown",
   "metadata": {},
   "source": [
    "## 2.1) Arrays\n",
    "\n",
    "Another set of data types are arrays. Arrays store one or more object or value in a particular order and are a great way to store data. We will cover three types of arrays that are built in to python:\n",
    "\n",
    "- Tuples\n",
    "- Lists\n",
    "- Dictionaries\n",
    "\n",
    "A major feature of arrays is that they can **indexed**, meaning that we can find the different elements within the arrays using their position (in the case of tuples and lists), or certain key words (dictionaries).\n",
    "\n",
    "Note that python (and a lot of earlier programming languages) start counting at 0, not 1 - so the first element of an array is actually the 0th element - we will see examples of this below.\n",
    "\n",
    "Indexing **must** be performed using an integer - floats will not work. We can also perform **list slicing** which we will cover below.\n",
    "\n",
    "### 2.1.1) Tuples\n",
    "\n",
    "The first array we will cover is the tuple. The tuple is defined by parentheses `()`. Within the parentheses we can add different elements that we separate using a comma. Each element does not have to be of the same type - for example, `(1,'one',True)` is a list in which the first (0th) element is the integer '1', the second element is the character string  `'one'`, and the third element is the boolean value `True`.\n",
    "\n",
    "To access elements within a tuple we use **indexing**, which in python is done with square brackets `[]`. To access an elements of the tuple I follow the tuple name with square brackets and the index number I would like - for example, if I want the first element of `my_tuple`, I would call `my_tuple[0]` (because indexing starts at 0), which returns the integer `1`."
   ]
  },
  {
   "cell_type": "code",
   "execution_count": 2,
   "metadata": {},
   "outputs": [
    {
     "name": "stdout",
     "output_type": "stream",
     "text": [
      "1\n"
     ]
    }
   ],
   "source": [
    "my_tuple = (1,'one',True)\n",
    "\n",
    "# Give me the first (0th) item in the tuple\n",
    "print(my_tuple[0])"
   ]
  },
  {
   "cell_type": "markdown",
   "metadata": {},
   "source": [
    "If we want to select a few elements from a tuple, we can use **slice indexing**, in which we specify a range of indicies we want. To slice index, we start by writing the first element we want followed by a colon `:`, and adding the number after the last element we want (quirk of python). So for example, if I wanted the first two items of `my_tuple`, I would write `my_tuple[0:2]`, which returns another tuple `(1, 'one')`."
   ]
  },
  {
   "cell_type": "code",
   "execution_count": 4,
   "metadata": {},
   "outputs": [
    {
     "name": "stdout",
     "output_type": "stream",
     "text": [
      "(1, 'one')\n"
     ]
    }
   ],
   "source": [
    "print(my_tuple[0:2])"
   ]
  },
  {
   "cell_type": "markdown",
   "metadata": {},
   "source": [
    "Another way to do the same thing is `my_tuple[:-1]`, which returns a tuple with all of the elements in `my_tuple` except the last element. Similarly, if I want all elements in the tuple except the first, I could call `my_tuple[1:]`, which returns item index 1 (the second element in the tuple) to the last element."
   ]
  },
  {
   "cell_type": "code",
   "execution_count": 5,
   "metadata": {},
   "outputs": [
    {
     "name": "stdout",
     "output_type": "stream",
     "text": [
      "(1, 'one')\n",
      "('one', True)\n"
     ]
    }
   ],
   "source": [
    "print(my_tuple[:-1])\n",
    "print(my_tuple[1:])"
   ]
  },
  {
   "cell_type": "markdown",
   "metadata": {},
   "source": [
    "There are a few of other properties to note about tuples:\n",
    "\n",
    "First, tuples are **immutable**, meaning that once they are created, the elements cannot be changed, added to or removed. While this makes tuples less flexible, they are quicker to process and more robustness if the program your running doesn't want the elements to be changed. We will see examples of **mutable** arrays in the next section on **lists**. \n",
    "\n",
    "Second, the operators `+` and `*` can be used with tuples, but do not have the same effect as in vector/matrix math:\n",
    "\n",
    "- The `+` operator joins - or **concatenates** two or more tuples together. For example, running `('one','two') + ('three', 'four')` returns a new four element tuple `('one','two', 'three', 'four')`.\n",
    "- The `*` operator duplicates a tuple. For example, running `('one', 'two') * 3` returns a new tuple `('one', 'two','one', 'two','one', 'two')`\n",
    "\n",
    "Third, there are two operators, `in` and `not in` that come in handy when trying to search the elements in a tuple. The `in` operator searches for an element in a tuple returns `True` if the element is found. For example, `'one' in ('one','two')` returns `True`. The `not in` operator returns `True` if the element is *not* found in the tuple - e.g., `'three' not in ('one','two')` returns `True`."
   ]
  },
  {
   "cell_type": "code",
   "execution_count": 9,
   "metadata": {},
   "outputs": [
    {
     "name": "stdout",
     "output_type": "stream",
     "text": [
      "True\n"
     ]
    }
   ],
   "source": [
    "print('one' in ('one','two'))"
   ]
  },
  {
   "cell_type": "code",
   "execution_count": 10,
   "metadata": {},
   "outputs": [
    {
     "name": "stdout",
     "output_type": "stream",
     "text": [
      "True\n"
     ]
    }
   ],
   "source": [
    "print('three' not in ('one','two'))"
   ]
  },
  {
   "cell_type": "markdown",
   "metadata": {},
   "source": [
    "### 2.1.2) Lists\n",
    "\n",
    "The second array type we will look at are **lists**, which are defined using square brackets `[]`. Lists share a lot of the same properties as tuples: elements can be of any data types and can be mixed, you can use indexing to find its elements, they can be concatenated and duplicated using the `+` and `*` operators, and the `in`/`not in` operators work the same way.\n",
    "\n",
    "The main difference with lists is that they are **mutable**, meaning that they can be changed. This means that elements can be modified, added, or removed from a lists, whereas this cannot be done with a tuple. To change an element in a list, we can use indexing. For example, if I have a list `my_list = ['one',1,True]`, and I want to change the third element from `True` to `False`, I could reassign the value of the third element `my_list[2] = False`. We can also use slice indexing to change multiple elements at once."
   ]
  },
  {
   "cell_type": "code",
   "execution_count": 15,
   "metadata": {},
   "outputs": [
    {
     "name": "stdout",
     "output_type": "stream",
     "text": [
      "['one', 1, True]\n",
      "['one', 1, False]\n",
      "['two', 2, False]\n"
     ]
    }
   ],
   "source": [
    "# Create a list\n",
    "my_list = ['one',1,True]\n",
    "print(my_list)\n",
    "\n",
    "# Reassign the third element\n",
    "my_list[2] = False\n",
    "print(my_list)\n",
    "\n",
    "# Reassign the first and second elements using slice indexing\n",
    "my_list[:2]=['two',2]\n",
    "print(my_list)"
   ]
  },
  {
   "cell_type": "markdown",
   "metadata": {},
   "source": [
    "Lists also have a number of different **methods** that can be used to modify the list elements. Methods are properties that are specific to different objects - in our case, a list is a type of object that has a few special methods (which are not available for other arrays like tuples). We can call these methods using dot `.` notation - first you type the name of the list, then add a `.`, then the name of the method followed by parentheses `()`. Some methods require infomation inside the parentheses to run (these are called **arguments** - we'll get to these once we start working with functions). Here are the main methods available for lists:\n",
    "\n",
    "- `insert` - insert element in particular part of a list - e.g., `mylist.insert(1,12)` put the number 12 at position 1\n",
    "- `append` - add new element to the end of the list - e.g., `my_list.append(10)` puts the number 10 at the end of `my_list`\n",
    "- `remove` - removes a particular element from the list - e.g., `my_list.remove(1)` removes the element 1 from `my_list`\n",
    "- `pop` - removes a list element at a particular index - e.g., `my_list.pop(1)` removes the second item from `my_list`. Note that this can also be done using the `del` expression - e.g., `del my_list[1]`. The main differences between `pop` and `del` is that `pop` returns the element that was removed.\n",
    "- `count` - number of times an element appears in the list - e.g., `mylist.count(1)` returns the number of times the number 1 appears in my list\n",
    "- `extend` - add another list to the end of my current list - e.g., `my_list.extend([1,2,3])` adds the list `[1,2,3]` to the end of `my_list`\n",
    "- `reverse` - reverse the order of the list - e.g., `my_list.reverse()`\n",
    "- `sort` - sort your list (alphabetical order if strings, numerical order if numbers - does not work on mixed types) - e.g., `my_list.sort()`"
   ]
  },
  {
   "cell_type": "code",
   "execution_count": 29,
   "metadata": {},
   "outputs": [
    {
     "name": "stdout",
     "output_type": "stream",
     "text": [
      "[1, 2, 3, 4, 5]\n",
      "[1, 2, 3, 4, 5, 6]\n",
      "[1, 2, 3, 4, 5]\n",
      "[1, 3, 4, 5]\n",
      "1\n",
      "[1, 3, 4, 5, 6, 7, 8]\n",
      "[8, 7, 6, 5, 4, 3, 1]\n",
      "[1, 3, 4, 5, 6, 7, 8]\n"
     ]
    }
   ],
   "source": [
    "# Examples of methods applied to a list\n",
    "my_list = [1,2,3,4]\n",
    "\n",
    "# Insert a new element at a particular position in the list\n",
    "my_list.insert(4,5)\n",
    "print(my_list)\n",
    "\n",
    "# Insert a new element at the end of the list\n",
    "my_list.append(6)\n",
    "print(my_list)\n",
    "\n",
    "# Remove element from a list\n",
    "my_list.remove(6)\n",
    "print(my_list)\n",
    "\n",
    "# Remove element at a particular index\n",
    "my_list.pop(1) # Note that this could also be done using del my_list[1]\n",
    "print(my_list)\n",
    "\n",
    "# Count how many times an element appears in a list\n",
    "print(my_list.count(1)) #counts the number of times the number `1` appears in the list\n",
    "\n",
    "# Add a list to another list\n",
    "my_list.extend([6,7,8]) # Note that this is the same as my_list = my_list + [6,7,8]\n",
    "print(my_list)\n",
    "\n",
    "# Reverse the order of the elements in a list\n",
    "my_list.reverse()\n",
    "print(my_list)\n",
    "\n",
    "# Sort the elements in the list - note that this is only possible because all of the elements are numbers\n",
    "my_list.sort()\n",
    "print(my_list)"
   ]
  },
  {
   "cell_type": "markdown",
   "metadata": {},
   "source": [
    "### 2.1.3) A few more notes regarding arrays (lists and tuples):\n",
    "\n",
    "- You can make arrays of arrays (of arrays (of arrays (of arrays...))) - here you can use **nested indexing** to access elements from one array within another array. For example, I have a list `my_list = [1,2,3,['one','two']]` that has three numbers and one list as elements - if I wanted to obtain the second element of the list within my list, I would use nested indexing to first specify the index of the element of the main list I want, then the sub-index of the second list `my_list[3][1]`, which would return `'two'`.\n",
    "- A handy funciton is the `len()` function which returns the number of elements in an array. For example, `len([1,2,3,4])` returns `4` since there are four elements in the array.\n",
    "- We can use built-in functions like `sum()` to get the sum of a whole list, but as we will see, it's better to use array tools that are more purpose built (e.g., numpy)."
   ]
  },
  {
   "cell_type": "code",
   "execution_count": 33,
   "metadata": {},
   "outputs": [
    {
     "name": "stdout",
     "output_type": "stream",
     "text": [
      "two\n"
     ]
    }
   ],
   "source": [
    "my_list = [1,2,3,['one','two']]\n",
    "print(my_list[3][1])"
   ]
  },
  {
   "cell_type": "markdown",
   "metadata": {},
   "source": [
    "### 2.1.4) Dictionaries\n",
    "\n",
    "The last main array we'll cover in this section are **dictionaries**. Dictionaries are a flexible way of organizing and referencing data, regardless of the data type. This is particularly handy for things like data from an experiment, which could have a number of different forms.\n",
    "\n",
    "Dictionaries are defined by curly braces `{}`. However, unlike tuples and lists, dictionaries do not support indexing; instead, they use **key : value** pairs. You search dictionaries using keys that then return their respective values. For example, I could have a dictionary `numbers` of phone numbers, where the key is a person's name and the value is their number. I can assign the value `555-5555` to the key `Jane Smith` - the way this is done is within the curly braces with the key coming first, then the value after a colon: `numbers = {'Jane Smith':'555-5555'}`. To get the number I have assigned to the key `Jane Smith`, I run `numbers['Jane Smith']`, which returns the value `555-5555`."
   ]
  },
  {
   "cell_type": "code",
   "execution_count": 37,
   "metadata": {},
   "outputs": [
    {
     "name": "stdout",
     "output_type": "stream",
     "text": [
      "{'Jane Smith': '555-5555'}\n",
      "555-5555\n"
     ]
    }
   ],
   "source": [
    "numbers = {'Jane Smith':'555-5555'}\n",
    "print(numbers)\n",
    "print(numbers['Jane Smith'])"
   ]
  },
  {
   "cell_type": "markdown",
   "metadata": {},
   "source": [
    "Dictionary keys must be immutable - this means that they can be any python data type that can be changes - e.g., keyscan be numbers (integres and floats), strings, and tuples, but not lists. However, the values can be of any data type (mutable or immutable).\n",
    "    \n",
    "You can add to a dictionary by creating a new key:value pair. For example, if I wanted to add a number for Eric Stephens to my `numbers` dictionary, I would write `numbers['Eric Stephens'] = '777-7777'`, where the key name is included in the square brackets, and the value is placed after the `=` assignment operator."
   ]
  },
  {
   "cell_type": "code",
   "execution_count": 38,
   "metadata": {},
   "outputs": [
    {
     "name": "stdout",
     "output_type": "stream",
     "text": [
      "{'Jane Smith': '555-5555'}\n",
      "{'Jane Smith': '555-5555', 'Eric Stephens': '777-7777'}\n"
     ]
    }
   ],
   "source": [
    "numbers = {'Jane Smith':'555-5555'}\n",
    "print(numbers)\n",
    "\n",
    "# Add number for Eric Stephens\n",
    "numbers['Eric Stephens'] = '777-7777'\n",
    "\n",
    "# Now my numbers dictionary has two phone numbers\n",
    "print(numbers)"
   ]
  },
  {
   "cell_type": "markdown",
   "metadata": {},
   "source": [
    "To remove a key:value pair you can use the `del` expression. For example, if I wanted to remove Eric's phone number from my dictionary, I would run `del numbers['Eric Stephens']`.\n",
    "\n",
    "Dictionaries have three methods: `keys()`, `values()` and `items()`. The `keys()` and `values()` methods list all of the dictionary keys and values respectively. For examples, running `numbers.keys()` would list the names of all of the people in my dictionary, whereas `numbers.values()` would list all their numbers. The `items()` method returns all of the key:value pairs in your dictionary."
   ]
  },
  {
   "cell_type": "code",
   "execution_count": 39,
   "metadata": {},
   "outputs": [
    {
     "name": "stdout",
     "output_type": "stream",
     "text": [
      "dict_keys(['Jane Smith', 'Eric Stephens'])\n",
      "dict_values(['555-5555', '777-7777'])\n",
      "dict_items([('Jane Smith', '555-5555'), ('Eric Stephens', '777-7777')])\n"
     ]
    }
   ],
   "source": [
    "print(numbers.keys())\n",
    "print(numbers.values())\n",
    "print(numbers.items())"
   ]
  },
  {
   "cell_type": "markdown",
   "metadata": {},
   "source": [
    "## 2.3) A very brief intro to numpy arrays\n",
    "\n",
    "While python arrays have many great and flexible uses, they are not ideal for numerical computing (especially compared to languages like R and Matlab). Thankfully, there is a python library called `numpy` that helps with numerical computations. `numpy` comes pre-installed with the anaconda python distribution, but can easily be installed using `pip` if you do no have it.\n",
    "\n",
    "To access the numpy library we first need to use the `import` statement to link all of the numpy functions."
   ]
  },
  {
   "cell_type": "code",
   "execution_count": 40,
   "metadata": {},
   "outputs": [],
   "source": [
    "import numpy"
   ]
  },
  {
   "cell_type": "markdown",
   "metadata": {},
   "source": [
    "The `numpy` library's main feature are its arrays. You can convert an existing python list into a numpy array using the `numpy.array()` function."
   ]
  },
  {
   "cell_type": "code",
   "execution_count": 42,
   "metadata": {},
   "outputs": [
    {
     "name": "stdout",
     "output_type": "stream",
     "text": [
      "<class 'list'>\n",
      "[1, 2, 3, 4]\n",
      "<class 'numpy.ndarray'>\n",
      "[1 2 3 4]\n"
     ]
    }
   ],
   "source": [
    "my_list = [1,2,3,4]\n",
    "print(type(my_list))\n",
    "print(my_list)\n",
    "my_array = numpy.array(my_list)\n",
    "print(type(my_array))\n",
    "print(my_array)"
   ]
  },
  {
   "cell_type": "markdown",
   "metadata": {},
   "source": [
    "While these may look similar, there are a few key differences between numpy arrays and python lists:\n",
    "- Unlike lists or tuples, all of the elements in numpy arrays need to be of the same type (e.g., you can have arrays of numbers or strings but not a combination of both).\n",
    "- Arithmetic operators behave in similar ways as in linear algebra - the `+` operator performs addition, `*` performs multiplication, etc.\n",
    "- Numpy arrays are multidimentional and so the indicies reflect the dimentionality of the array. For example, if you have a 2x3 array called `my_array` (2 rows and 3 columns), I could access the 3 column of the first row by calling `my_array[0,2]`.\n",
    "\n",
    "These properties make numpy arrays much more handy for things like data collection and data processing when doing your analyses. We'll go into more detail later on."
   ]
  },
  {
   "cell_type": "code",
   "execution_count": null,
   "metadata": {},
   "outputs": [],
   "source": []
  }
 ],
 "metadata": {
  "kernelspec": {
   "display_name": "Python 3",
   "language": "python",
   "name": "python3"
  },
  "language_info": {
   "codemirror_mode": {
    "name": "ipython",
    "version": 3
   },
   "file_extension": ".py",
   "mimetype": "text/x-python",
   "name": "python",
   "nbconvert_exporter": "python",
   "pygments_lexer": "ipython3",
   "version": "3.6.8"
  }
 },
 "nbformat": 4,
 "nbformat_minor": 4
}
