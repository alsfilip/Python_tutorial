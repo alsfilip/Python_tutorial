{
 "cells": [
  {
   "attachments": {},
   "cell_type": "markdown",
   "metadata": {},
   "source": [
    "# Lesson 0: Getting Started with Python and Jupyter notebooks\n",
    "\n",
    "## 04/02/2020\n",
    "\n",
    "### 0.0) Installing python\n",
    "\n",
    "The first step to using python is...installing python. There are a number of ways to do this, and different methods work for different purposes. The standard version of python doesn't come with very much in terms of specialized functions and libraries that can be useful for things like data analysis and plotting. As such, there are differe \"distributions\" of python that groups have created, which include a number of different libraries and functions that those groups find useful. If the primary goal is to use python for science (e.g., data analysis, plotting, numerical computing), the *de factor* best distribution is the **anaconda** distribution. This is the distribution we will be working with.\n",
    "\n",
    "To install python using anaconda, go to https://www.anaconda.com/distribution/ and download Python 3.7 (most recent version as of today). This should install an **anaconda-navigator**, which gives you easy access to a bunch of neat tools. The tool we'll use in the next section is a **jupyter notebook**, which allows us to write and run scripts in python.\n",
    "\n",
    "Anaconda serves as a **package manager**, meaning that it helps you install and update different python packages you want to add/update on your system. It also allows you to create virtual python environments with older version of python that are independent from the version you have installed on your system. We'll go through all of these details at a later point, but if you're curious, it's worth checking out the [Anaconda Documentation](https://docs.anaconda.com/anaconda/).\n",
    "\n",
    "### 0.1) Jupyter notebooks\n",
    "\n",
    "Now that you have python installed it's time to use it. Like with anything, there are a number of ways to run python code. My preferred method is to run scripts in **jupyter notebooks**. These notebooks are interactive interfaces that allow you to write and run segments of python code, and also allow you to keep notes about your code using markdown. \n",
    "\n",
    "To start a jupyter notebook, open the **anaconda-navigator** application and click the \"launch\" button under the \"jupyter notebook\" logo (highlighted in blue below).\n",
    "\n",
    "<img src=\"./imgs/jupyter_launch.png\" alt=\"Drawing\" style=\"width: 700px;\"/>\n",
    "\n",
    "From there a tree of folders will appear. Navigate to the folder in which you want to save your notebook. Once you're in the correct folder, click on the \"kernel\" dropdown medu in the top right (see red box below). This will allow you to select your notebook. Note that Jupyter notebooks by default can run **Ju**lia **py**thon and **R** scripts if you select the appropriate notebook type. The type of notebook you select with start a \"kernel\", which means a sort of \"engine\" that reads the type of code you want to write. For our purposes, select a \"python\" notebook.\n",
    "\n",
    "<img src=\"./imgs/kernel.png\" alt=\"Drawing\" style=\"width: 1000px;\"/>\n",
    "\n",
    "This should open up a blank notebook that looks like the one below.\n",
    "\n",
    "<img src=\"./imgs/notebook.png\" alt=\"Drawing\" style=\"width: 1000px;\"/>\n",
    "\n",
    "### 0.2) Basic jupyter notebook functionality\n",
    "\n",
    "The notebook will be the environment in which we will be doing all of our coding. Code can be written in code **cells** (area highlighted in green above). One of the great features of jupyter notebooks is that you can interleave code and plain text - this makes it a great tool for something like a results section, where you mix graphs and analyses with words to decribe/interpret what you're plotting.\n",
    "\n",
    "For example, if I want to describe an analysis about the link between height and weight, I could do something like this:\n",
    "\n",
    ">\"In our study we measured the height and weight of 50 individuals. As is evident below, height and weight are positively correlated.\""
   ]
  },
  {
   "cell_type": "code",
   "execution_count": 16,
   "metadata": {},
   "outputs": [
    {
     "data": {
      "text/plain": [
       "Text(0.5, 0, 'Height (inches)')"
      ]
     },
     "execution_count": 16,
     "metadata": {},
     "output_type": "execute_result"
    },
    {
     "data": {
      "image/png": "[encoded data removed]",
      "text/plain": [
       "<Figure size 432x288 with 1 Axes>"
      ]
     },
     "metadata": {
      "needs_background": "light"
     },
     "output_type": "display_data"
    }
   ],
   "source": [
    "# Don't worry about this code now, we'll go through it later\n",
    "import numpy as np                    #Library for easy numerical computation\n",
    "from matplotlib import pyplot as plt  #Plotting library\n",
    "import seaborn as sns                 #Library to make plots look nicer in python\n",
    "\n",
    "height = np.random.normal(70,10,50)          #Use numpy to generate 50 points from a gaussian with mean 70 and sd 10\n",
    "weight = height*2.2+np.random.normal(0,20,50)#Use numpy to generate 50 correlated points with gaussian noise\n",
    "\n",
    "sns.regplot(height,weight,'o')               #Plot regression\n",
    "plt.ylabel('Weight (lbs)',size = 15)         #Add labelsimgs\n",
    "plt.xlabel('Height (inches)',size=15)"
   ]
  },
  {
   "cell_type": "markdown",
   "metadata": {},
   "source": [
    "#### 0.2.1) Cell types\n",
    "\n",
    "There are two cell types, which can be set in the area highlighted in red in the image below:\n",
    "\n",
    "1. Code: Cells in which you write and run python code\n",
    "2. Mardown: Cell in which you write text/insert images/write equations using markdown language (covered below)\n",
    "\n",
    "<img src=\"./imgs/cell_type.png\" alt=\"Drawing\" style=\"width: 1000px;\"/>\n",
    "\n",
    "#### 0.2.2) Running cells\n",
    "\n",
    "To run the code in a cell, make sure the cell you want to run is selected, and either click the **Run** button in the top menu, or `SHIFT+ENTER` as a shortcut.\n",
    "\n",
    "If you are running a cell with markdown code, the formatted text will appear in place of the cell. To modify the mardown code, double click on the formatted text to make the code appear again.\n",
    "\n",
    "If you are running a cell with python code, the output from your script will appear under the cell (and if your code doen't return anything, nothing will appear under the cell). Note that errors and warnings will also appear under the cell.\n",
    "\n",
    "Once you run code in the cell, all of the variables created within that cell will be saved in your notebook environment, and can be used by other cells. Just be careful to note the order in which you run your cells so that you know how each cell depends on the others.\n",
    "\n",
    "### 0.3) Markdown\n",
    "\n",
    "Before getting into programming, it's useful to have a handle of how markdown languages work to format your text. You may be used to word processing programs like \"MS Word\", where you see the final formatted text as you write - these types of programs are sometimes referred to as WYSIWYG editors (\"What You See Is What You Get\").\n",
    "\n",
    "Markdown languages use code and tags to format text. For example, to make a word bold you surround the word with asterisks: \n",
    "\n",
    "writing `**bold**` in markdown returns **bold**\n",
    "\n",
    "I recommend you look up the extensive documentation on this [markdown cheat-sheet](https://www.markdownguide.org/cheat-sheet/) and other general resources on the [markdown guide](https://www.markdownguide.org/). It is worth noting, however, that most, but not all mardown functionalities are supported by jupyter notebooks. \n",
    "\n",
    "Jupyter notebooks also allow you to use LaTeX markdown tags to write math equations as long as you put your equations between dollar signs. Use one dollar sign on each side to keep the equations in the same line, and two dollar signs to put the math on it's own separate line. For example:\n",
    "\n",
    "writing \n",
    "\n",
    ">`A condition distribution is written $p(A|B)$`\n",
    "\n",
    "returns \n",
    "\n",
    ">A condition distribution is written $p(A|B)$\n",
    "\n",
    "whereas writting \n",
    ">`Bayes rule is written as $$p(A|B)=\\frac{p(B|A)p(A)}{p(B)}$$` \n",
    "\n",
    "returns \n",
    "\n",
    ">Bayes rule is written as $$p(A|B)=\\frac{p(B|A)p(A)}{p(B)}$$\n",
    "\n",
    "### 0.4) Conclusion\n",
    "\n",
    "This should get you started on how to install python and help you start to navigate jupyter notebooks. More detailed information can be found in the [Jupyter notebook documentation](https://jupyter.readthedocs.io/en/latest/)."
   ]
  },
  {
   "cell_type": "code",
   "execution_count": null,
   "metadata": {},
   "outputs": [],
   "source": []
  }
 ],
 "metadata": {
  "kernelspec": {
   "display_name": "Python 3",
   "language": "python",
   "name": "python3"
  },
  "language_info": {
   "codemirror_mode": {
    "name": "ipython",
    "version": 3
   },
   "file_extension": ".py",
   "mimetype": "text/x-python",
   "name": "python",
   "nbconvert_exporter": "python",
   "pygments_lexer": "ipython3",
   "version": "3.6.8"
  }
 },
 "nbformat": 4,
 "nbformat_minor": 4
}
