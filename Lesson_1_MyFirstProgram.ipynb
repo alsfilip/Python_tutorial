{
 "cells": [
  {
   "cell_type": "markdown",
   "metadata": {},
   "source": [
    "# Lesson 1: Creating a program\n",
    "\n",
    "## 04/09/2020\n",
    "\n",
    "*The content of this session is largely based on [Chapter 1](http://openbookproject.net/thinkcs/python/english3e/way_of_the_program.html) from the [\"How to think like a computer scientist\"](http://openbookproject.net/thinkcs/python/english3e/) e-book*\n",
    "\n",
    "### 1) What is a program?\n",
    "\n",
    "In its basic form a program is a set of instructions. In our case, we would like these instructions to be carried out by a computer - however, we need a way to give instructions in a format that the computer can read.\n",
    "\n",
    "In its most basic form, computers use binary code (0s and 1s) to perform computations (made possible thanks to fields like [lambda calculus](https://en.wikipedia.org/wiki/Lambda_calculus#Origin_of_the_lambda_symbol)). Therefore, any instructions we want a computer to perform will have to eventually be converted to binary. While it is certainly possible to write pure binary code, it's not practical.\n",
    "\n",
    "Programming languages were created as a more practical way of giving computers instructions. Programming languages allow a user to provide instructions in some more human-readable (i.e., letters and numbers) and convert these instructions into a format the computer can understand. This conversion is done by means of an **interpreter** which recognizes certain commands from a programming language, and converts them to computer or machine readable code.\n",
    "\n",
    "There are many programming languages that each have their strengths, weaknesses, and reasons for use. The language we will be using is **Python**. Python is considered a **high-level** programming language, since it's quite a few steps removed from machine readable code (i.e., it's generally written in C). The advantage of python is that it's extremely broad in its capabilities, and clean to read and write. It's also **portable**, meaning that it can be run on a number of different operating systems and computer types without requiring any modification (this is not true of lower-level programming languages like C, where you need specific compilers for specific operating systems). The main disadvantage is that python is slow, particularly for numerical computation (from my experience around 50x slower than code written in C).\n",
    "\n",
    "That said, Python is a great language to learn how to program because it's quick to get going and offers a taste of many of the "
   ]
  },
  {
   "cell_type": "code",
   "execution_count": null,
   "metadata": {},
   "outputs": [],
   "source": []
  }
 ],
 "metadata": {
  "kernelspec": {
   "display_name": "Python 3",
   "language": "python",
   "name": "python3"
  },
  "language_info": {
   "codemirror_mode": {
    "name": "ipython",
    "version": 3
   },
   "file_extension": ".py",
   "mimetype": "text/x-python",
   "name": "python",
   "nbconvert_exporter": "python",
   "pygments_lexer": "ipython3",
   "version": "3.6.8"
  }
 },
 "nbformat": 4,
 "nbformat_minor": 4
}
