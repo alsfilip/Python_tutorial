{
 "cells": [
  {
   "cell_type": "markdown",
   "metadata": {},
   "source": [
    "# Lesson 1: Creating a program\n",
    "\n",
    "## 04/09/2020\n",
    "\n",
    "*The content of this session is largely based on [Chapter 1](http://openbookproject.net/thinkcs/python/english3e/way_of_the_program.html) from the [\"How to think like a computer scientist\"](http://openbookproject.net/thinkcs/python/english3e/) e-book*\n",
    "\n",
    "### 1) Values and data types\n",
    "\n",
    "An important concept in programming is the idea of a **value**. "
   ]
  },
  {
   "cell_type": "code",
   "execution_count": null,
   "metadata": {},
   "outputs": [],
   "source": []
  }
 ],
 "metadata": {
  "kernelspec": {
   "display_name": "Python 3",
   "language": "python",
   "name": "python3"
  },
  "language_info": {
   "codemirror_mode": {
    "name": "ipython",
    "version": 3
   },
   "file_extension": ".py",
   "mimetype": "text/x-python",
   "name": "python",
   "nbconvert_exporter": "python",
   "pygments_lexer": "ipython3",
   "version": "3.6.8"
  }
 },
 "nbformat": 4,
 "nbformat_minor": 4
}
