{
 "cells": [
  {
   "cell_type": "markdown",
   "metadata": {},
   "source": [
    "# Lesson 3: Introduction to `pandas`  for data processing and manipulation\n",
    "\n",
    "## 05/06/2020\n",
    "\n",
    "*The content below is primarily from [this pandas reference page](https://www.tutorialspoint.com/python_pandas/index.htm)*\n",
    "\n",
    "**Goals of this notebook:**\n",
    "- Introduce two `pandas` objects:\n",
    "    - `pandas.Series()`\n",
    "    - `pandas.DataFrame()`\n",
    "- How to read and write csv files\n",
    "\n",
    "## 3.0) Install and import `pandas`\n",
    "\n",
    "A commonly used python library for importing and manipulating data is the `pandas` package. To install the `pandas` library, open a terminal and type `pip install pandas`. If you have anaconda installed you can also use the `conda install pandas` method.\n",
    "\n",
    "Once you have `pandas` installed, you can access it's functionalities by running `import pandas` in your notebook before calling any of the pandas functions."
   ]
  },
  {
   "cell_type": "code",
   "execution_count": 1,
   "metadata": {},
   "outputs": [],
   "source": [
    "import pandas"
   ]
  },
  {
   "cell_type": "markdown",
   "metadata": {},
   "source": [
    "Now that we have `pandas` installed, we can start using it to manipulate and import data. The two main objects used to manipulate data are `pandas.Series()` and `pandas.DataFrame()'.\n",
    "\n",
    "## 3.1)  `pandas.Series()` arrays\n",
    "\n",
    "In `pandas`, a 'series' is a one dimensional array, similar to the arrays we covered in lesson 2. However, series have some important differences. \n",
    "\n",
    "First, all of the elements in a `pandas` series need to be of the same type. For example, they can all be integers, floats, stings, booleans, tuples, etc, but unlike tuples or lists, series cannot have different types in the same series. If you do create a series with a few different data types, `pandas` will try to auto-convert all of the items into one data type (e.g., if you create a list of numbers with one string, all of the items will be converted to strings).\n",
    "\n",
    "Second, arithmetic operators can be used to perform element-wise arithmetic operations, rather than behave like they do with python tuples or lists. We will see examples of this below.\n",
    "\n",
    "### 3.1.1) Creating a series\n",
    "\n",
    "To create a series we need to call the `pandas.Series()` function. The dot `.` notation is similar to saying \"Look in the `pandas` library and find the `Series()` function\". The `pandas.Series()` function can take up to four arguments: `pandas.Series(data, index, dtype, copy)`\n",
    "- **data:** the elements you want in your series (can be an array, list, or constant number/string)\n",
    "- **index:** index ID for each row (needs to be the same length as the data)\n",
    "- **dtype:** the data type (e.g., float, integer, string)\n",
    "- **copy:** whether or not a copy is created of the data\n",
    "\n",
    "Once we have this function there are a few ways we can create a series. We can convert a list into a series by putting a list as the data."
   ]
  },
  {
   "cell_type": "code",
   "execution_count": 9,
   "metadata": {},
   "outputs": [
    {
     "name": "stdout",
     "output_type": "stream",
     "text": [
      "0    1\n",
      "1    2\n",
      "2    3\n",
      "3    4\n",
      "dtype: int64\n"
     ]
    }
   ],
   "source": [
    "# Creating a series using an list\n",
    "data = [1,2,3,4]\n",
    "s = pandas.Series(data)\n",
    "print(s)"
   ]
  },
  {
   "cell_type": "markdown",
   "metadata": {},
   "source": [
    "Notice that although we only provided one list (`data`), when we print the series we see two columns - one that ranges from 0-3 and the other that has our list (1-4). The column on the left is the series **index labels**, which, if not provided, defaults to a range of numbers starting at 0 and ending at the length of your list minus 1 (because of 0 indexing).\n",
    "\n",
    "Index labels can be customized by passing a second list in the 'index' argument when creating your series. Note that his second list must be the same length as the list provided to the `data` argument."
   ]
  },
  {
   "cell_type": "code",
   "execution_count": 11,
   "metadata": {},
   "outputs": [
    {
     "name": "stdout",
     "output_type": "stream",
     "text": [
      "a    1\n",
      "b    2\n",
      "c    3\n",
      "d    4\n",
      "dtype: int64\n"
     ]
    }
   ],
   "source": [
    "# Creating a series using an list\n",
    "data = [1,2,3,4]\n",
    "# Specify index labels\n",
    "idx = ['a', 'b', 'c', 'd']\n",
    "s = pandas.Series(data,index=idx)\n",
    "print(s)"
   ]
  },
  {
   "cell_type": "markdown",
   "metadata": {},
   "source": [
    "Another way to create a series with both index labels and values is with a dictionary as the `data` argument. By default, the dictionary keys are used as the index labels, and the dictionary values are passed to the series."
   ]
  },
  {
   "cell_type": "code",
   "execution_count": 13,
   "metadata": {},
   "outputs": [
    {
     "name": "stdout",
     "output_type": "stream",
     "text": [
      "a    1\n",
      "b    2\n",
      "c    3\n",
      "d    4\n",
      "dtype: int64\n"
     ]
    }
   ],
   "source": [
    "# Creating a series using a dictionary - keys create index\n",
    "data = {'a':1, 'b':2, 'c':3, 'd':4}\n",
    "s = pandas.Series(data)\n",
    "print(s)"
   ]
  },
  {
   "cell_type": "markdown",
   "metadata": {},
   "source": [
    "You can also create a series with one repeating element (e.g., a series with 3 `5`s). You can do this by creating a list with the single element as the `data` argument, and a list in the `index` argument with length euql to the number of times you want the element repeated."
   ]
  },
  {
   "cell_type": "code",
   "execution_count": 14,
   "metadata": {},
   "outputs": [
    {
     "name": "stdout",
     "output_type": "stream",
     "text": [
      "a    5\n",
      "b    5\n",
      "c    5\n",
      "dtype: int64\n"
     ]
    }
   ],
   "source": [
    "# Creating series of repeating elements\n",
    "s = pandas.Series(5,index=['a','b','c'])\n",
    "print(s)"
   ]
  },
  {
   "cell_type": "markdown",
   "metadata": {},
   "source": [
    "### 3.1.2) Setting a series data type using the `dtype` argument\n",
    "\n",
    "In some cases you may have a list you want to convert into a series but which you may want to convert into a different data type (e.g., change a series of floats into a series of integers or strings). You can set the data type for the series using the `dtype` keyword argument."
   ]
  },
  {
   "cell_type": "code",
   "execution_count": 18,
   "metadata": {},
   "outputs": [
    {
     "name": "stdout",
     "output_type": "stream",
     "text": [
      "0    1\n",
      "1    2\n",
      "2    3\n",
      "3    4\n",
      "4    5\n",
      "dtype: int64\n",
      "0    1.0\n",
      "1    2.0\n",
      "2    3.0\n",
      "3    4.0\n",
      "4    5.0\n",
      "dtype: float64\n"
     ]
    }
   ],
   "source": [
    "# List of integers I want to convert to a series\n",
    "data = [1,2,3,4,5]\n",
    "s_int = pandas.Series(data)\n",
    "print(s_int)\n",
    "\n",
    "# Create the same series but now convert the elements into floats\n",
    "s_float = pandas.Series(data,dtype=float)\n",
    "print(s_float)"
   ]
  },
  {
   "cell_type": "markdown",
   "metadata": {},
   "source": [
    "### 3.1.3) The importance of `copy`ing \n",
    "\n",
    "One caution is that python will sometimes assign different variable names to the same object. For example, if I have a list `a = [1,2,3,4,5]`, then I create a new variable `b = a` to serve as a copy of `a`, by default python uses both `a` and `b` variable names to modify the same list `[1,2,3,4,5]`. This can lead to objects being changed when you don't intend them to be.\n",
    "\n",
    "For example, with the lists above, if I change the first item in `b` to the number `10`, it will also, by default, change the first item in `a`, even if I don't specify this explicitly."
   ]
  },
  {
   "cell_type": "code",
   "execution_count": 21,
   "metadata": {},
   "outputs": [
    {
     "name": "stdout",
     "output_type": "stream",
     "text": [
      "[1, 2, 3, 4, 5]\n",
      "[1, 2, 3, 4, 5]\n",
      "[10, 2, 3, 4, 5]\n",
      "[10, 2, 3, 4, 5]\n"
     ]
    }
   ],
   "source": [
    "# Create a list\n",
    "a = [1,2,3,4,5]\n",
    "b = a\n",
    "\n",
    "print(a)\n",
    "print(b)\n",
    "\n",
    "# Change the first item in b to the number 10\n",
    "b[0] = 10\n",
    "\n",
    "# Notice that although we did nothing to a, the first item has been changed\n",
    "print(a)\n",
    "print(b)"
   ]
  },
  {
   "cell_type": "markdown",
   "metadata": {},
   "source": [
    "To get around this issue we can use python's `copy()` method, which creates a new copy of the orginal object. For example, `b = a.copy()` now creates a new copy of `a` that will not interfere with `a`."
   ]
  },
  {
   "cell_type": "code",
   "execution_count": 22,
   "metadata": {},
   "outputs": [
    {
     "name": "stdout",
     "output_type": "stream",
     "text": [
      "[1, 2, 3, 4, 5]\n",
      "[1, 2, 3, 4, 5]\n",
      "[1, 2, 3, 4, 5]\n",
      "[10, 2, 3, 4, 5]\n"
     ]
    }
   ],
   "source": [
    "# Create a list\n",
    "a = [1,2,3,4,5]\n",
    "b = a.copy()\n",
    "\n",
    "print(a)\n",
    "print(b)\n",
    "\n",
    "# Change the first item in b to the number 10\n",
    "b[0] = 10\n",
    "\n",
    "# Notice that now the list a remains unchanged\n",
    "print(a)\n",
    "print(b)"
   ]
  },
  {
   "cell_type": "markdown",
   "metadata": {},
   "source": [
    "If you wish to copy the variable you are converting to a series, you can set the copy() argument to `True`."
   ]
  },
  {
   "cell_type": "code",
   "execution_count": 26,
   "metadata": {},
   "outputs": [
    {
     "name": "stdout",
     "output_type": "stream",
     "text": [
      "0    1\n",
      "1    2\n",
      "2    3\n",
      "3    4\n",
      "4    5\n",
      "dtype: int64\n"
     ]
    }
   ],
   "source": [
    "data = [1,2,3,4,5]\n",
    "s = pandas.Series(data,copy=True)\n",
    "print(s)"
   ]
  },
  {
   "cell_type": "markdown",
   "metadata": {},
   "source": [
    "### 3.1.4) Indexing\n",
    "\n",
    "To access the elements of a series you can use similar index notation used with lists and tuples. You can use an index number to access a single series element (again, noting that indexing in python starts at 0), or slice indexing to access multiple elements."
   ]
  },
  {
   "cell_type": "code",
   "execution_count": 31,
   "metadata": {},
   "outputs": [
    {
     "name": "stdout",
     "output_type": "stream",
     "text": [
      "a    1\n",
      "b    2\n",
      "c    3\n",
      "d    4\n",
      "dtype: int64\n",
      "1\n",
      "a    1\n",
      "b    2\n",
      "c    3\n",
      "dtype: int64\n",
      "b    2\n",
      "c    3\n",
      "dtype: int64\n",
      "b    2\n",
      "c    3\n",
      "d    4\n",
      "dtype: int64\n"
     ]
    }
   ],
   "source": [
    "data = {'a':1, 'b':2, 'c':3, 'd':4}\n",
    "s = pandas.Series(data)\n",
    "print(s)\n",
    "\n",
    "# INDEXING USING NUMBERS\n",
    "# First element\n",
    "print(s[0])\n",
    "\n",
    "# First 3 elements\n",
    "print(s[:3])\n",
    "\n",
    "# Middle two elements\n",
    "print(s[1:3])\n",
    "\n",
    "# Last 3 elements\n",
    "print(s[-3:])"
   ]
  },
  {
   "cell_type": "markdown",
   "metadata": {},
   "source": [
    "You can also use the index labels to access elements of the series. This is particularly handy if you know the element's index label (e.g., if the index label is a subject's ID), but don't know the element's position in the series."
   ]
  },
  {
   "cell_type": "code",
   "execution_count": 32,
   "metadata": {},
   "outputs": [
    {
     "name": "stdout",
     "output_type": "stream",
     "text": [
      "Accessing one element\n",
      "1\n",
      "Accessing many elements\n",
      "a    1\n",
      "b    2\n",
      "d    4\n",
      "dtype: int64\n"
     ]
    }
   ],
   "source": [
    "data = {'a':1, 'b':2, 'c':3, 'd':4}\n",
    "s = pandas.Series(data)\n",
    "\n",
    "# INDEXING USING INDEX LABELS\n",
    "print('Accessing one element')\n",
    "print(s['a'])\n",
    "print('Accessing many elements')\n",
    "print(s[['a','b','d']])"
   ]
  },
  {
   "cell_type": "markdown",
   "metadata": {},
   "source": [
    "### 3.1.5) Basic operations\n",
    "\n",
    "Unlike lists, tuples, and dictionaries, you can use arithmetic operators on pandas.Series() objects. These generally result in element-wise operations: the operation will apply to each element of the series.\n",
    "\n",
    "If an operation is applied between a series and a number (a scalar value), that operation will be applied between each element of the series and the number. For example, if I have a series `s` and run the code `s+1`, the value of `1` will be added to each element of `s`. \n",
    "\n",
    "If an operation is applied between two series, the operation will apply between each indexed pair of elements in each series (e.g., `s1 + s2` will start by adding `s1[0]` and `s2[0]` and so on). Opertaions between series can only be performed if the series are of the same length."
   ]
  },
  {
   "cell_type": "code",
   "execution_count": 33,
   "metadata": {},
   "outputs": [
    {
     "name": "stdout",
     "output_type": "stream",
     "text": [
      "a    1\n",
      "b    2\n",
      "c    3\n",
      "d    4\n",
      "dtype: int64\n",
      "a    2\n",
      "b    3\n",
      "c    4\n",
      "d    5\n",
      "dtype: int64\n",
      "a     3\n",
      "b     6\n",
      "c     9\n",
      "d    12\n",
      "dtype: int64\n",
      "a     1\n",
      "b     4\n",
      "c     9\n",
      "d    16\n",
      "dtype: int64\n",
      "a     1\n",
      "b     4\n",
      "c     9\n",
      "d    16\n",
      "dtype: int64\n"
     ]
    }
   ],
   "source": [
    "data = {'a':1, 'b':2, 'c':3, 'd':4}\n",
    "s = pandas.Series(data)\n",
    "print(s)\n",
    "\n",
    "# Addition\n",
    "print(s + 1)\n",
    "\n",
    "# Multiplication\n",
    "print(s * 3)\n",
    "\n",
    "# Exponentiation\n",
    "print(s**2)\n",
    "\n",
    "# Using an operator between two Series results in an elementwise operation\n",
    "print(s * s)"
   ]
  },
  {
   "cell_type": "markdown",
   "metadata": {},
   "source": [
    "## 2) pandas.DataFrame()\n",
    "\n",
    "- The main pandas object is a Data Frame - think of this as a 2D spreadsheet with rows and columns\n",
    "- `pandas.DataFrame(data, index, columns, dtype, copy):\n",
    "    - data: various input that you would like to convert into a table\n",
    "    - index: row index label\n",
    "    - columns: column index label\n",
    "    - dtype: data type for each column (do not have to be the same)\n",
    "    - copy: copy the data you are converting to a data frame"
   ]
  },
  {
   "cell_type": "code",
   "execution_count": 49,
   "metadata": {},
   "outputs": [
    {
     "name": "stdout",
     "output_type": "stream",
     "text": [
      "   0\n",
      "0  1\n",
      "1  2\n",
      "2  3\n",
      "3  4\n"
     ]
    }
   ],
   "source": [
    "# Simple 4x1 Data Frame\n",
    "data = [1,2,3,4]\n",
    "df = pandas.DataFrame(data)\n",
    "print(df)"
   ]
  },
  {
   "cell_type": "code",
   "execution_count": 53,
   "metadata": {},
   "outputs": [
    {
     "name": "stdout",
     "output_type": "stream",
     "text": [
      "    Name  Age\n",
      "0   Alex   33\n",
      "1  Zhang   25\n",
      "2  Emily   35\n"
     ]
    }
   ],
   "source": [
    "# Creating a 4 x 2 Data Frame using list of lists\n",
    "data = [['Alex',33],['Zhang',25],['Emily',35]]\n",
    "df = pandas.DataFrame(data,columns=['Name','Age'])\n",
    "print(df)\n",
    "\n",
    "# #Same thing but converting second column to float\n",
    "# df_float = pandas.DataFrame(data,columns=['Name','Age'],dtype=float)\n",
    "# print(df_float)"
   ]
  },
  {
   "cell_type": "code",
   "execution_count": 52,
   "metadata": {},
   "outputs": [
    {
     "name": "stdout",
     "output_type": "stream",
     "text": [
      "    Name  Age\n",
      "0   Alex   33\n",
      "1  Zhang   25\n",
      "2  Emily   35\n"
     ]
    }
   ],
   "source": [
    "# Creating a data frame using dictionary\n",
    "data = {'Name':['Alex','Zhang','Emily'], 'Age':[33,25,35]}\n",
    "df = pandas.DataFrame(data)\n",
    "print(df)"
   ]
  },
  {
   "cell_type": "code",
   "execution_count": 54,
   "metadata": {},
   "outputs": [
    {
     "name": "stdout",
     "output_type": "stream",
     "text": [
      "    Name  Age\n",
      "0   Alex   33\n",
      "1  Zhang   25\n",
      "2  Emily   35\n"
     ]
    }
   ],
   "source": [
    "# Creating data frame using list of dictionaries\n",
    "data = [{'Name': 'Alex', 'Age': 33}, {'Name': 'Zhang', 'Age': 25}, {'Name': 'Emily', 'Age': 35}]\n",
    "df = pandas.DataFrame(data)\n",
    "print(df)"
   ]
  },
  {
   "cell_type": "code",
   "execution_count": 59,
   "metadata": {},
   "outputs": [
    {
     "name": "stdout",
     "output_type": "stream",
     "text": [
      "    Name  Height Weight\n",
      "0   Alex     180    NaN\n",
      "1  Zhang     185    NaN\n",
      "2  Emily     178    NaN\n"
     ]
    }
   ],
   "source": [
    "# Creating a data from with a subset of the elements in a dictionary\n",
    "data = {'Name':['Alex','Zhang','Emily'], 'Age':[33,25,35], 'Height':[180,185,178]}\n",
    "df1 = pandas.DataFrame(data,columns=['Name','Age'])\n",
    "df2 = pandas.DataFrame(data,columns=['Name','Height'])\n",
    "df3 = pandas.DataFrame(data,columns=['Name','Height','Weight'])\n",
    "\n",
    "#print(df1)\n",
    "#print(df2)\n",
    "print(df3)"
   ]
  },
  {
   "cell_type": "code",
   "execution_count": 61,
   "metadata": {},
   "outputs": [
    {
     "name": "stdout",
     "output_type": "stream",
     "text": [
      "    Name  Age  Age2\n",
      "1   Alex   33    33\n",
      "2  Zhang   25    25\n",
      "3  Emily   35    35\n"
     ]
    }
   ],
   "source": [
    "# Create data frame from dictionary of series - power of indexing (e.g., subject numbers)\n",
    "idx1 = [1,2,3]\n",
    "idx2 = [2,3,1]\n",
    "idx3 = ['a','b','c']\n",
    "data = {'Name':pandas.Series(['Alex','Zhang','Emily'],index = idx1),\n",
    "        'Age':pandas.Series([33,25,35], index=idx1),\n",
    "        'Age2':pandas.Series([25,35,33],index = idx2)}\n",
    "df = pandas.DataFrame(data)\n",
    "print(df)"
   ]
  },
  {
   "cell_type": "code",
   "execution_count": 68,
   "metadata": {},
   "outputs": [
    {
     "name": "stdout",
     "output_type": "stream",
     "text": [
      "   Age   Name\n",
      "0   33   Alex\n",
      "1   25  Zhang\n",
      "2   35  Emily\n"
     ]
    }
   ],
   "source": [
    "# Creating new columns\n",
    "data = {'Name':['Alex','Zhang','Emily'], 'Age':[33,25,35]}\n",
    "df = pandas.DataFrame(data,columns=['Age','Name'])\n",
    "print(df)\n",
    "\n",
    "\n",
    "# # Using a list\n",
    "# df['Height'] = [180,185,178]\n",
    "# #print(df)\n",
    "\n",
    "# # Using a series (note the indexing)\n",
    "# df['Age2'] = pandas.Series([25,35,33],index = [1,2,0])\n",
    "\n",
    "\n",
    "# # Using existing columns - transforming one column\n",
    "# df['Age_squared'] = df['Age']**2\n",
    "\n",
    "\n",
    "# # Using existing more than one column\n",
    "# df['Age_Height'] = df['Age']*df['Height']\n",
    "# print(df)"
   ]
  },
  {
   "cell_type": "code",
   "execution_count": 71,
   "metadata": {},
   "outputs": [
    {
     "name": "stdout",
     "output_type": "stream",
     "text": [
      "    Name  Age  Age2\n",
      "0   Alex   33    33\n",
      "1  Zhang   25    25\n",
      "2  Emily   35    35\n",
      "    Name  Age\n",
      "0   Alex   33\n",
      "1  Zhang   25\n",
      "2  Emily   35\n",
      "    Name\n",
      "0   Alex\n",
      "1  Zhang\n",
      "2  Emily\n"
     ]
    }
   ],
   "source": [
    "# Deleting columns\n",
    "data = {'Name':['Alex','Zhang','Emily'], 'Age':[33,25,35], 'Age2':[33,25,35]}\n",
    "df = pandas.DataFrame(data)\n",
    "print(df)\n",
    "\n",
    "# Delete using del\n",
    "del df['Age2']\n",
    "print(df)\n",
    "\n",
    "# Delete using pop\n",
    "df.pop('Age')\n",
    "print(df)"
   ]
  },
  {
   "cell_type": "markdown",
   "metadata": {},
   "source": [
    "## Row selection, addition, deletion\n",
    "\n",
    "Indexing rows from pandas data frames takes some getting used to - it's not as easy as just using row and column indicies like with other languages (there's a whole SQL philosophy behind this).\n",
    "\n",
    "Indexing can be done using the `.loc` and `.iloc` functions\n",
    "\n",
    "- `loc` uses the row index names\n",
    "- `iloc` uses the row index number (probably what some fo you are more used to)"
   ]
  },
  {
   "cell_type": "code",
   "execution_count": 93,
   "metadata": {},
   "outputs": [
    {
     "name": "stdout",
     "output_type": "stream",
     "text": [
      "    Name  Age  Age2\n",
      "a   Alex   33    25\n",
      "b  Zhang   25    35\n",
      "c  Emily   35    33\n",
      "<class 'pandas.core.series.Series'>\n"
     ]
    }
   ],
   "source": [
    "# Row selection\n",
    "data = {'Name':pandas.Series(['Alex','Zhang','Emily'],index = ['a','b','c']),\n",
    "        'Age':pandas.Series([33,25,35], index=['a','b','c']),\n",
    "        'Age2':pandas.Series([25,35,33],index = ['a','b','c'])}\n",
    "df = pandas.DataFrame(data)\n",
    "print(df)\n",
    "\n",
    "# # Using slice indexing - returns DF\n",
    "print(df.iloc[1])\n",
    "\n",
    "# Using `loc` - returns Series\n",
    "#print(df.loc['b'])\n",
    "\n",
    "# # Using iloc\n",
    "# print(df.iloc[1])"
   ]
  },
  {
   "cell_type": "code",
   "execution_count": 117,
   "metadata": {},
   "outputs": [
    {
     "name": "stdout",
     "output_type": "stream",
     "text": [
      "a    Alex\n",
      "Name: Name, dtype: object\n",
      "b    Zhang\n",
      "c    Emily\n",
      "Name: Name, dtype: object\n"
     ]
    }
   ],
   "source": [
    "# Using logic with loc\n",
    "print(df['Name'].loc[df['Age'] == 33])\n",
    "print(df['Name'].loc[df['Age'] != 33])"
   ]
  },
  {
   "cell_type": "code",
   "execution_count": 118,
   "metadata": {},
   "outputs": [
    {
     "name": "stdout",
     "output_type": "stream",
     "text": [
      "b    Zhang\n",
      "c    Emily\n",
      "Name: Name, dtype: object\n",
      "b    Zhang\n",
      "c    Emily\n",
      "Name: Name, dtype: object\n",
      "b    Zhang\n",
      "c    Emily\n",
      "Name: Name, dtype: object\n",
      "    Name  Age\n",
      "b  Zhang   25\n",
      "c  Emily   35\n"
     ]
    }
   ],
   "source": [
    "# Indexing from one colum\n",
    "print(df['Name'].loc[['b','c']])\n",
    "\n",
    "# Indexing using slice index\n",
    "print(df['Name'].iloc[1:])\n",
    "\n",
    "# If it's for one column, slice indexing works without iloc\n",
    "print(df['Name'][1:])\n",
    "\n",
    "# Indexing from multiple columns\n",
    "print(df[['Name','Age']].iloc[1:])"
   ]
  },
  {
   "cell_type": "code",
   "execution_count": 139,
   "metadata": {},
   "outputs": [
    {
     "name": "stdout",
     "output_type": "stream",
     "text": [
      "       Name  Age  Age2\n",
      "0      Alex   33    25\n",
      "1     Zhang   25    35\n",
      "2     Emily   35    33\n",
      "0     Sarah   33    25\n",
      "1  Mohammed   25    35\n",
      "2     Kelly   35    33\n",
      "       Name  Age  Age2\n",
      "a      Alex   33    25\n",
      "b     Zhang   25    35\n",
      "c     Emily   35    33\n",
      "d     Sarah   33    25\n",
      "e  Mohammed   25    35\n",
      "f     Kelly   35    33\n"
     ]
    }
   ],
   "source": [
    "# Adding row using append()\n",
    "data1 = {'Name':pandas.Series(['Alex','Zhang','Emily']),\n",
    "        'Age':pandas.Series([33,25,35]),\n",
    "        'Age2':pandas.Series([25,35,33])}\n",
    "data2 = {'Name':pandas.Series(['Sarah','Mohammed','Kelly']),\n",
    "        'Age':pandas.Series([33,25,35]),\n",
    "        'Age2':pandas.Series([25,35,33])}\n",
    "df1 = pandas.DataFrame(data1)\n",
    "df2 = pandas.DataFrame(data2)\n",
    "\n",
    "df1 = df1.append(df2)\n",
    "\n",
    "# Note the index\n",
    "print(df1)\n",
    "\n",
    "# Change index\n",
    "df1.index = ['a','b','c','d','e','f']\n",
    "print(df1)"
   ]
  },
  {
   "cell_type": "code",
   "execution_count": 143,
   "metadata": {},
   "outputs": [
    {
     "name": "stdout",
     "output_type": "stream",
     "text": [
      "       Name  Age  Age2\n",
      "b     Zhang   25    35\n",
      "c     Emily   35    33\n",
      "d     Sarah   33    25\n",
      "e  Mohammed   25    35\n",
      "f     Kelly   35    33\n",
      "       Name  Age  Age2\n",
      "b     Zhang   25    35\n",
      "d     Sarah   33    25\n",
      "e  Mohammed   25    35\n",
      "f     Kelly   35    33\n"
     ]
    }
   ],
   "source": [
    "# Remove row(s) using drop()\n",
    "\n",
    "df = df1.drop('a')\n",
    "print(df)\n",
    "\n",
    "df2 = df1.drop(['a','c'])\n",
    "print(df2)"
   ]
  },
  {
   "cell_type": "markdown",
   "metadata": {},
   "source": [
    "## Reading/writing csv files\n",
    "\n",
    "Given the table format of data frames, these can be used to read in table data (e.g., csv files). We can do this using the `pandas.read_csv()` function. There are a lot of arguments (which you can read [here](https://pandas.pydata.org/pandas-docs/stable/reference/api/pandas.read_csv.html), and which we will covert as we need them), but here we'll just go over some of the very basics.\n",
    "\n",
    "The main argument to include is the delimiter type (the character used to separate the columns in your text file). This can sometimes be inferred automatically, especially for common data types (e.g., csv), but it's generally good to specify."
   ]
  },
  {
   "cell_type": "code",
   "execution_count": 94,
   "metadata": {},
   "outputs": [
    {
     "name": "stdout",
     "output_type": "stream",
     "text": [
      "       Name  Age\n",
      "0      Alex   33\n",
      "1     Zhang   25\n",
      "2     Emily   35\n",
      "3     Sarah   33\n",
      "4  Mohammed   33\n",
      "5     Kelly   36\n",
      "6    Rashad   21\n",
      "7   Chantal   26\n"
     ]
    }
   ],
   "source": [
    "# Read in the csv named 'names.csv'\n",
    "df = pandas.read_csv('names.csv',sep=',')\n",
    "print(df)"
   ]
  },
  {
   "cell_type": "code",
   "execution_count": 99,
   "metadata": {},
   "outputs": [
    {
     "name": "stdout",
     "output_type": "stream",
     "text": [
      "\n",
      "Last rows\n",
      "      Name  Age\n",
      "5    Kelly   36\n",
      "6   Rashad   21\n",
      "7  Chantal   26\n"
     ]
    }
   ],
   "source": [
    "# If we have a huge data frame and just want to see the first few lines we can call the .head() function\n",
    "\n",
    "# print('First rows')\n",
    "# print(df.head()) # by default you get the first 5 lines, but you can increase this by including a number in the parentheses\n",
    "\n",
    "# We can also just look at the last few rows using .tail()\n",
    "print('\\nLast rows')\n",
    "print(df.tail(3))"
   ]
  },
  {
   "cell_type": "code",
   "execution_count": 100,
   "metadata": {},
   "outputs": [
    {
     "name": "stdout",
     "output_type": "stream",
     "text": [
      "       Name  Age  Height\n",
      "0      Alex   33     180\n",
      "1     Zhang   25     185\n",
      "2     Emily   35     178\n",
      "3     Sarah   33     190\n",
      "4  Mohammed   33     165\n",
      "5     Kelly   36     155\n",
      "6    Rashad   21     180\n",
      "7   Chantal   26     159\n"
     ]
    }
   ],
   "source": [
    "# Add a new column for height\n",
    "df['Height'] = [180,185,178,190,165,155,180,159]\n",
    "\n",
    "print(df)"
   ]
  },
  {
   "cell_type": "markdown",
   "metadata": {},
   "source": [
    "If we want to save a data frame as a csv file we can use the `.to_csv` method. Again, there are a lot of arguments you can pass to this method (see them [here](https://pandas.pydata.org/pandas-docs/stable/reference/api/pandas.DataFrame.to_csv.html)), but the main ones we'll use here are:\n",
    "\n",
    "- path: file name (including filepath and extension)\n",
    "- sep: delimiter you want to use\n",
    "- index: whether or not you want the index labels to be written as the first column\n",
    "- index_label: column name for the index"
   ]
  },
  {
   "cell_type": "code",
   "execution_count": 101,
   "metadata": {},
   "outputs": [],
   "source": [
    "# Save data frame as comma separated values file - saves the data frame as a csv called 'names2' in my current folder\n",
    "df.to_csv('/Users/alsfilip/Desktop/names2.csv',sep=',',index=True,index_label='SubjectID')"
   ]
  },
  {
   "cell_type": "code",
   "execution_count": null,
   "metadata": {},
   "outputs": [],
   "source": []
  }
 ],
 "metadata": {
  "kernelspec": {
   "display_name": "Python 3",
   "language": "python",
   "name": "python3"
  },
  "language_info": {
   "codemirror_mode": {
    "name": "ipython",
    "version": 3
   },
   "file_extension": ".py",
   "mimetype": "text/x-python",
   "name": "python",
   "nbconvert_exporter": "python",
   "pygments_lexer": "ipython3",
   "version": "3.6.8"
  }
 },
 "nbformat": 4,
 "nbformat_minor": 4
}
